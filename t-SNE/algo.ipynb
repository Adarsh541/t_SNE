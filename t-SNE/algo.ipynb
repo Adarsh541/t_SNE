{
 "cells": [
  {
   "cell_type": "code",
   "execution_count": 33,
   "id": "ad33d919",
   "metadata": {},
   "outputs": [],
   "source": [
    "import matplotlib.pyplot as plt\n",
    "import numpy as np\n",
    "from sklearn.manifold import TSNE\n"
   ]
  },
  {
   "cell_type": "code",
   "execution_count": 34,
   "id": "2258e4e7",
   "metadata": {},
   "outputs": [],
   "source": [
    "# generating high-dimensional data\n",
    "cov = 0.1*np.identity(10)\n",
    "mu1 = np.ones(10)\n",
    "mu2 = 10*np.ones(10)\n",
    "cluster1 = np.random.multivariate_normal(mu1,cov,10)\n",
    "cluster2 = np.random.multivariate_normal(mu2,cov,10)\n",
    "X = np.concatenate((cluster1,cluster2))\n"
   ]
  },
  {
   "cell_type": "code",
   "execution_count": 35,
   "id": "d759aa7c",
   "metadata": {},
   "outputs": [
    {
     "name": "stdout",
     "output_type": "stream",
     "text": [
      "0.0\n"
     ]
    }
   ],
   "source": [
    "# KL Divergence of multivariate distributions\n",
    "def KL_div(p,q):\n",
    "    p = np.asarray(p)\n",
    "    q = np.asarray(q)\n",
    "    d = 0\n",
    "    for i in range(len(p)):\n",
    "        if (p[i]!=0):\n",
    "            d = d + p[i]*np.log2(p[i]/q[i])\n",
    "    return d\n",
    "def kL_2d(P,Q):\n",
    "    s = 0\n",
    "    for i in range(len(P)):\n",
    "        s = s + KL_div(P[i],Q[i])\n",
    "    return s\n",
    "\n",
    "test = [[0.1,0.2],[0.1,0.2]]\n",
    "print(kL_2d(test,test))"
   ]
  },
  {
   "cell_type": "code",
   "execution_count": 36,
   "id": "030a9e4e",
   "metadata": {},
   "outputs": [],
   "source": [
    "# calcluating denominator of equation probability distribution\n",
    "def sum_distances(data,index,sigma):\n",
    "    s = 0\n",
    "    for i in range(len(data)):\n",
    "        if (i != index):\n",
    "            s = s + np.exp(-(((np.linalg.norm(data[i]-data[index]))**2)/(2*(sigma**2))))\n",
    "    return s\n",
    "\n",
    "# calculating the conditional probability matrix of high-dimensional points\n",
    "def prob_mat(data,sigma_array):\n",
    "    n = len(data)\n",
    "    p = np.zeros((n,n))\n",
    "    for i in range(n):\n",
    "        for j in range(n):\n",
    "            if (i != j):\n",
    "                p[i][j] =  np.exp(-((np.linalg.norm(data[i]-data[j]))**2/(2*(sigma_array[i]**2))))/(sum_distances(data,i,sigma_array[i]))\n",
    "    return p\n",
    "\n",
    "# calculating the probability matrix of high-dimensional points\n",
    "def sym_prob_mat(data,sigma_array):\n",
    "    n = len(data)\n",
    "    p = np.zeros((n,n))\n",
    "    for i in range(n):\n",
    "        for j in range(n):\n",
    "            if (i != j):\n",
    "                p[i][j] =  np.exp(-((np.linalg.norm(data[i]-data[j]))**2/(2*(sigma_array[i]**2))))/(sum_distances(data,i,sigma_array[i]))\n",
    "    return (p + np.transpose(p))/(2*n)\n",
    "\n",
    "# probability matrix of embedded points\n",
    "def map_prob(Y):\n",
    "    den = 0\n",
    "    for i in range(len(Y)-1):\n",
    "        for j in range(i+1,len(Y)):\n",
    "            den = den + (1+(np.linalg.norm(Y[i]-Y[j]))**2)**(-1)\n",
    "    q = np.zeros((len(Y),len(Y)))\n",
    "    for i in range(len(Y)):\n",
    "        for j in range(len(Y)):\n",
    "            if (i != j):\n",
    "                q[i][j] = ((1+(np.linalg.norm(Y[i]-Y[j]))**2)**(-1))/den\n",
    "    return q\n",
    "            \n",
    "\n",
    "# gradient of cost function\n",
    "def grad(data,sigma_array,Y):\n",
    "    g = []\n",
    "    n = len(data)\n",
    "    p = sym_prob_mat(data,sigma_array)\n",
    "    q = map_prob(Y)\n",
    "    for i in range(n):\n",
    "        s = [0,0]\n",
    "        for j in range(n):\n",
    "            s= s + (p[i][j]-q[i][j])*((1+(np.linalg.norm(Y[i]-Y[j]))**2)**(-1))*(Y[i]-Y[j])\n",
    "        g.append(4*s)\n",
    "    return np.array(g)\n",
    "\n",
    "# gradient descent algo\n",
    "def grad_desc(T,learn_rate,alpha,data,sigma_array):\n",
    "    y = np.random.multivariate_normal(np.zeros((2)),10**(-4)*np.identity(2),len(data))\n",
    "    y_t = np.array([np.zeros((len(data),2))]*(T+2))\n",
    "    y_t[1] = y\n",
    "    for i in range(2,T+2):\n",
    "        y_t[i] = y_t[i-1] + learn_rate*grad(data,sigma_array,y_t[i-1]) + alpha*(y_t[i-1]-y_t[i-2])\n",
    "    return y_t[T+1]\n",
    "    "
   ]
  },
  {
   "cell_type": "markdown",
   "id": "ac72d2d6",
   "metadata": {},
   "source": [
    "###  plot of Y at the beginning and end of 50 iterations"
   ]
  },
  {
   "cell_type": "code",
   "execution_count": 37,
   "id": "a9aa6952",
   "metadata": {},
   "outputs": [
    {
     "data": {
      "image/png": "[encoded data removed]",
      "text/plain": [
       "<Figure size 432x288 with 1 Axes>"
      ]
     },
     "metadata": {
      "needs_background": "light"
     },
     "output_type": "display_data"
    },
    {
     "data": {
      "image/png": "[encoded data removed]",
      "text/plain": [
       "<Figure size 432x288 with 1 Axes>"
      ]
     },
     "metadata": {
      "needs_background": "light"
     },
     "output_type": "display_data"
    }
   ],
   "source": [
    "sig = [0.6]*10\n",
    "sig_ = [0.6]*20\n",
    "map_points1 = grad_desc(1,4,0.8,cluster1,sig)\n",
    "map_points2 = grad_desc(1,4,0.8,cluster2,sig)\n",
    "p = sym_prob_mat(X,sig_)\n",
    "mp1 = np.concatenate((map_points1,map_points2))\n",
    "q_first = map_prob(mp1)\n",
    "plt.scatter(map_points1[:,0],map_points1[:,1])\n",
    "plt.scatter(map_points2[:,0],map_points2[:,1])\n",
    "plt.title(\"plot at the start of iteration\")\n",
    "plt.show()\n",
    "#sig = [0.1]*10\n",
    "map_points1_l = grad_desc(50,4,0.8,cluster1,sig)\n",
    "map_points2_l = grad_desc(50,4,0.8,cluster2,sig)\n",
    "mp2 = np.concatenate((map_points1_l,map_points2_l))\n",
    "q_last = map_prob(mp2)\n",
    "plt.scatter(map_points1_l[:,0],map_points1_l[:,1])\n",
    "plt.scatter(map_points2_l[:,0],map_points2_l[:,1])\n",
    "plt.title(\"plot of Y at the end of 50 iterations\")\n",
    "plt.show()"
   ]
  },
  {
   "cell_type": "markdown",
   "id": "6948b64a",
   "metadata": {},
   "source": [
    "At the start of the iterations the map_points are close. After 50 iterations the map points are far away which can be observed from the limits of axes in the above plots."
   ]
  },
  {
   "cell_type": "code",
   "execution_count": 38,
   "id": "d4890dbc",
   "metadata": {},
   "outputs": [
    {
     "name": "stdout",
     "output_type": "stream",
     "text": [
      "KL divergence after one iteration:  0.4192535862401783\n",
      "KL divergence after 50 iterations:  0.41866047498559333\n"
     ]
    }
   ],
   "source": [
    "print(\"KL divergence after one iteration: \",kL_2d(p,q_first))\n",
    "print(\"KL divergence after 50 iterations: \",kL_2d(p,q_last))"
   ]
  },
  {
   "cell_type": "markdown",
   "id": "07f4df7a",
   "metadata": {},
   "source": [
    "### experimenting with different values of $\\eta$ and $\\alpha$"
   ]
  },
  {
   "cell_type": "code",
   "execution_count": 39,
   "id": "7f85b8d5",
   "metadata": {},
   "outputs": [
    {
     "data": {
      "text/plain": [
       "<matplotlib.collections.PathCollection at 0x1f26fe06a90>"
      ]
     },
     "execution_count": 39,
     "metadata": {},
     "output_type": "execute_result"
    },
    {
     "data": {
      "image/png": "[encoded data removed]",
      "text/plain": [
       "<Figure size 432x288 with 1 Axes>"
      ]
     },
     "metadata": {
      "needs_background": "light"
     },
     "output_type": "display_data"
    }
   ],
   "source": [
    "map_points1 = grad_desc(50,1,0.9,cluster1,sig)\n",
    "map_points2 = grad_desc(50,1,0.9,cluster2,sig)\n",
    "plt.scatter(map_points1[:,0],map_points1[:,1])\n",
    "plt.scatter(map_points2[:,0],map_points2[:,1])"
   ]
  },
  {
   "cell_type": "code",
   "execution_count": 40,
   "id": "eaef1e9d",
   "metadata": {},
   "outputs": [
    {
     "data": {
      "text/plain": [
       "<matplotlib.collections.PathCollection at 0x1f26fe76760>"
      ]
     },
     "execution_count": 40,
     "metadata": {},
     "output_type": "execute_result"
    },
    {
     "data": {
      "image/png": "[encoded data removed]",
      "text/plain": [
       "<Figure size 432x288 with 1 Axes>"
      ]
     },
     "metadata": {
      "needs_background": "light"
     },
     "output_type": "display_data"
    }
   ],
   "source": [
    "map_points1 = grad_desc(50,5,0.7,cluster1,sig)\n",
    "map_points2 = grad_desc(50,5,0.7,cluster2,sig)\n",
    "plt.scatter(map_points1[:,0],map_points1[:,1])\n",
    "plt.scatter(map_points2[:,0],map_points2[:,1])"
   ]
  },
  {
   "cell_type": "code",
   "execution_count": 41,
   "id": "0befde8a",
   "metadata": {},
   "outputs": [
    {
     "data": {
      "text/plain": [
       "Text(0.5, 0, 'perplexity=40')"
      ]
     },
     "execution_count": 41,
     "metadata": {},
     "output_type": "execute_result"
    },
    {
     "data": {
      "image/png": "[encoded data removed]",
      "text/plain": [
       "<Figure size 432x288 with 4 Axes>"
      ]
     },
     "metadata": {
      "needs_background": "light"
     },
     "output_type": "display_data"
    }
   ],
   "source": [
    "# using sklearn's in-built TSNE\n",
    "y1 = TSNE(n_components=2,perplexity=10).fit_transform(X)\n",
    "y2 = TSNE(n_components=2,perplexity=5).fit_transform(X)\n",
    "y3 = TSNE(n_components=2,perplexity=30).fit_transform(X)\n",
    "y4 = TSNE(n_components=2,perplexity=40).fit_transform(X)\n",
    "\n",
    "figure, axis = plt.subplots(2, 2)\n",
    "  \n",
    "axis[0, 0].scatter(y1[:,0],y1[:,1])\n",
    "axis[0, 0].set_title(\"perplexity=10\")\n",
    "  \n",
    "axis[0, 1].scatter(y2[:,0],y2[:,1])\n",
    "axis[0, 1].set_title(\"perplexity=5\")\n",
    "  \n",
    "axis[1, 0].scatter(y3[:,0],y3[:,1])\n",
    "axis[1, 0].set_xlabel(\"perplexity=30\")\n",
    "  \n",
    "axis[1, 1].scatter(y4[:,0],y4[:,1])\n",
    "axis[1, 1].set_xlabel(\"perplexity=40\")"
   ]
  },
  {
   "cell_type": "markdown",
   "id": "740cff82",
   "metadata": {},
   "source": [
    "As perplexity increases the map points from the clusters merge together."
   ]
  },
  {
   "cell_type": "code",
   "execution_count": null,
   "id": "16bf16e5",
   "metadata": {},
   "outputs": [],
   "source": []
  }
 ],
 "metadata": {
  "kernelspec": {
   "display_name": "Python 3 (ipykernel)",
   "language": "python",
   "name": "python3"
  },
  "language_info": {
   "codemirror_mode": {
    "name": "ipython",
    "version": 3
   },
   "file_extension": ".py",
   "mimetype": "text/x-python",
   "name": "python",
   "nbconvert_exporter": "python",
   "pygments_lexer": "ipython3",
   "version": "3.9.7"
  }
 },
 "nbformat": 4,
 "nbformat_minor": 5
}
